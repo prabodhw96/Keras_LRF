{
 "cells": [
  {
   "cell_type": "code",
   "execution_count": 12,
   "metadata": {},
   "outputs": [],
   "source": [
    "import numpy as np\n",
    "import matplotlib.pyplot as plt\n",
    "import cv2\n",
    "import sys\n",
    "\n",
    "from learningratefinder import LearningRateFinder\n",
    "from minigooglenet import MiniGoogLeNet\n",
    "from clr_callback import CyclicLR\n",
    "import config\n",
    "\n",
    "from sklearn.preprocessing import LabelBinarizer\n",
    "from sklearn.metrics import classification_report\n",
    "\n",
    "from keras.datasets import fashion_mnist\n",
    "from keras.optimizers import SGD\n",
    "from keras.preprocessing.image import ImageDataGenerator"
   ]
  },
  {
   "cell_type": "code",
   "execution_count": 13,
   "metadata": {},
   "outputs": [
    {
     "name": "stdout",
     "output_type": "stream",
     "text": [
      "[INFO] loading Fashion MNIST data...\n"
     ]
    }
   ],
   "source": [
    "print(\"[INFO] loading Fashion MNIST data...\")\n",
    "((trainX, trainY), (testX, testY)) = fashion_mnist.load_data()\n",
    "\n",
    "# Fashion MNIST images are 28x28 but the network we will be training expects 32x32 images\n",
    "trainX = np.array([cv2.resize(x, (32, 32)) for x in trainX])\n",
    "testX = np.array([cv2.resize(x, (32, 32)) for x in testX])\n",
    "\n",
    "# scale the pixel intensities to the range [0, 1]\n",
    "trainX = trainX.astype(\"float\")/255.0\n",
    "testY = testY.astype(\"float\")/255.0\n",
    "\n",
    "# reshape the data matrices to include channel dimension (required for training)\n",
    "trainX = trainX.reshape((trainX.shape[0], 32, 32, 1))\n",
    "testX = testX.reshape((testX.shape[0], 32, 32, 1))\n",
    "\n",
    "# convert the labels from integers to vectors\n",
    "lb = LabelBinarizer()"
   ]
  },
  {
   "cell_type": "code",
   "execution_count": 14,
   "metadata": {},
   "outputs": [],
   "source": [
    "# construct the image generator for data augmentation\n",
    "aug = ImageDataGenerator(width_shift_range=0.1,\n",
    "                                      height_shift_range=0.1,\n",
    "                                      horizontal_flip=True,\n",
    "                                      fill_mode=\"nearest\")"
   ]
  },
  {
   "cell_type": "code",
   "execution_count": 15,
   "metadata": {},
   "outputs": [
    {
     "name": "stdout",
     "output_type": "stream",
     "text": [
      "[INFO] compiling model...\n"
     ]
    }
   ],
   "source": [
    "# initialize the optimizer model\n",
    "print(\"[INFO] compiling model...\")\n",
    "opt = SGD(lr=config.MIN_LR, momentum=0.9)\n",
    "model = MiniGoogLeNet.build(width=32, height=32, depth=1, classes=10)\n",
    "model.compile(loss=\"sparse_categorical_crossentropy\", optimizer=opt, metrics=[\"accuracy\"])"
   ]
  },
  {
   "cell_type": "code",
   "execution_count": 16,
   "metadata": {},
   "outputs": [
    {
     "name": "stdout",
     "output_type": "stream",
     "text": [
      "[INFO] finding learning rate...\n",
      "Epoch 1/3\n",
      "938/938 [==============================] - 8397s 9s/step - loss: 2.6045 - acc: 0.0992\n",
      "Epoch 2/3\n",
      "938/938 [==============================] - 8345s 9s/step - loss: 2.1199 - acc: 0.2568\n",
      "Epoch 3/3\n",
      "883/938 [===========================>..] - ETA: 8:08 - loss: 0.9808 - acc: 0.6797"
     ]
    }
   ],
   "source": [
    "print(\"[INFO] finding learning rate...\")\n",
    "lrf = LearningRateFinder(model)\n",
    "lrf.find(aug.flow(trainX, trainY, batch_size=config.BATCH_SIZE),\n",
    "         1e-10, 1e+1,\n",
    "         stepsPerEpoch=np.ceil((len(trainX) / float(config.BATCH_SIZE))),\n",
    "         batchSize=config.BATCH_SIZE)"
   ]
  },
  {
   "cell_type": "code",
   "execution_count": 19,
   "metadata": {},
   "outputs": [
    {
     "data": {
      "image/png": "[encoded data removed]",
      "text/plain": [
       "<Figure size 432x288 with 1 Axes>"
      ]
     },
     "metadata": {},
     "output_type": "display_data"
    }
   ],
   "source": [
    "plt.style.use('ggplot')\n",
    "lrf.plot_loss()\n",
    "plt.savefig(config.LRFIND_PLOT_PATH)"
   ]
  },
  {
   "cell_type": "markdown",
   "metadata": {},
   "source": [
    "* [1e-10, 1e-5]: loss does not decrease => learning rate is too small => network isn't learning\n",
    "* [1e-5]: loss starts to decrease =>learning rate is just large enough => network can just start to learn\n",
    "* [1e-4, 1e-3]: loss is decreasing rapidly => \"sweet spot\" => network can learn quickly\n",
    "* [1e-2, ]: tiny increase in loss => learning rate is too large again => network isn't learning\n",
    "* [1e-1]: large jump => learning rate is too large\n",
    "\n",
    "Based on this plot, we should choose 1e-5 as our base learning rate and 1e-2 as our max learning rate — these values indicate a learning rate just small enough for our network to start to learn, along with a learning rate that this is large enough for our network to rapidly learn, but not so large that our loss explodes."
   ]
  },
  {
   "cell_type": "code",
   "execution_count": null,
   "metadata": {},
   "outputs": [],
   "source": [
    "# Update the MIN_LR and MAX_LR values in config.py and train the network on full dataset\n",
    "'''stepSize = config.STEP_SIZE * (trainX.shape[0] // config.BATCH_SIZE)\n",
    "clr = CyclicLR(\n",
    "    mode=config.CLR_METHOD,\n",
    "    base_lr=config.MIN_LR,\n",
    "    max_lr=config.MAX_LR,\n",
    "    step_size=stepSize)\n",
    "\n",
    "print(\"[INFO] training network...\")\n",
    "H = model.fit_generator(\n",
    "    aug.flow(trainX, trainY, batch_size=config.BATCH_SIZE),\n",
    "    validation_data=(testX, testY),\n",
    "    steps_per_epoch=trainX.shape[0] // config.BATCH_SIZE,\n",
    "    epochs=config.NUM_EPOCHS,\n",
    "    callbacks=[clr],\n",
    "    verbose=1)\n",
    "\n",
    "print(\"[INFO] evaluating network...\")\n",
    "predictions = model.predict(testX, batch_size=config.BATCH_SIZE)\n",
    "print(classification_report(testY.argmax(axis=1), predictions.argmax(axis=1), target_names=config.CLASSES))\n",
    "\n",
    "N = np.arange(0, config.NUM_EPOCHS)\n",
    "plt.style.use(\"ggplot\")\n",
    "plt.figure()\n",
    "plt.plot(N, H.history[\"loss\"], label=\"train_loss\")\n",
    "plt.plot(N, H.history[\"val_loss\"], label=\"val_loss\")\n",
    "plt.plot(N, H.history[\"acc\"], label=\"train_acc\")\n",
    "plt.plot(N, H.history[\"val_acc\"], label=\"val_acc\")\n",
    "plt.title(\"Training Loss and Accuracy\")\n",
    "plt.xlabel(\"Epoch #\")\n",
    "plt.ylabel(\"Loss/Accuracy\")\n",
    "plt.legend(loc=\"lower left\")\n",
    "plt.savefig(config.TRAINING_PLOT_PATH)\n",
    "\n",
    "N = np.arange(0, len(clr.history[\"lr\"]))\n",
    "plt.figure()\n",
    "plt.plot(N, clr.history[\"lr\"])\n",
    "plt.title(\"Cyclical Learning Rate (CLR)\")\n",
    "plt.xlabel(\"Training Iterations\")\n",
    "plt.ylabel(\"Learning Rate\")\n",
    "plt.savefig(config.CLR_PLOT_PATH)'''"
   ]
  },
  {
   "cell_type": "code",
   "execution_count": null,
   "metadata": {},
   "outputs": [],
   "source": []
  }
 ],
 "metadata": {
  "kernelspec": {
   "display_name": "Python 3",
   "language": "python",
   "name": "python3"
  },
  "language_info": {
   "codemirror_mode": {
    "name": "ipython",
    "version": 3
   },
   "file_extension": ".py",
   "mimetype": "text/x-python",
   "name": "python",
   "nbconvert_exporter": "python",
   "pygments_lexer": "ipython3",
   "version": "3.6.8"
  }
 },
 "nbformat": 4,
 "nbformat_minor": 2
}
