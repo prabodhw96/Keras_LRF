{
 "cells": [
  {
   "cell_type": "code",
   "execution_count": 5,
   "metadata": {},
   "outputs": [],
   "source": [
    "import numpy as np\n",
    "import matplotlib.pyplot as plt\n",
    "import cv2\n",
    "import sys\n",
    "\n",
    "from learningratefinder import LearningRateFinder\n",
    "from minigooglenet import MiniGoogLeNet\n",
    "from clr_callback import CyclicLR\n",
    "import config\n",
    "\n",
    "from sklearn.preprocessing import LabelBinarizer\n",
    "from sklearn.metrics import classification_report\n",
    "\n",
    "from keras.datasets import fashion_mnist\n",
    "from keras.optimizers import SGD\n",
    "from keras.preprocessing.image import ImageDataGenerator"
   ]
  },
  {
   "cell_type": "code",
   "execution_count": 6,
   "metadata": {},
   "outputs": [
    {
     "name": "stdout",
     "output_type": "stream",
     "text": [
      "[INFO] loading Fashion MNIST data...\n"
     ]
    }
   ],
   "source": [
    "print(\"[INFO] loading Fashion MNIST data...\")\n",
    "((trainX, trainY), (testX, testY)) = fashion_mnist.load_data()\n",
    "\n",
    "# Fashion MNIST images are 28x28 but the network we will be training expects 32x32 images\n",
    "trainX = np.array([cv2.resize(x, (32, 32)) for x in trainX])\n",
    "testX = np.array([cv2.resize(x, (32, 32)) for x in testX])\n",
    "\n",
    "# scale the pixel intensities to the range [0, 1]\n",
    "trainX = trainX.astype(\"float\")/255.0\n",
    "testY = testY.astype(\"float\")/255.0\n",
    "\n",
    "# reshape the data matrices to include channel dimension (required for training)\n",
    "trainX = trainX.reshape((trainX.shape[0], 32, 32, 1))\n",
    "testX = testX.reshape((testX.shape[0], 32, 32, 1))\n",
    "\n",
    "# convert the labels from integers to vectors\n",
    "lb = LabelBinarizer()"
   ]
  },
  {
   "cell_type": "code",
   "execution_count": 7,
   "metadata": {},
   "outputs": [],
   "source": [
    "# construct the image generator for data augmentation\n",
    "aug = ImageDataGenerator(width_shift_range=0.1,\n",
    "                                      height_shift_range=0.1,\n",
    "                                      horizontal_flip=True,\n",
    "                                      fill_mode=\"nearest\")"
   ]
  },
  {
   "cell_type": "code",
   "execution_count": 10,
   "metadata": {},
   "outputs": [
    {
     "name": "stdout",
     "output_type": "stream",
     "text": [
      "[INFO] compiling model...\n"
     ]
    }
   ],
   "source": [
    "# initialize the optimizer model\n",
    "print(\"[INFO] compiling model...\")\n",
    "opt = SGD(lr=config.MIN_LR, momentum=0.9)\n",
    "model = MiniGoogLeNet.build(width=32, height=32, depth=1, classes=10)\n",
    "model.compile(loss=\"sparse_categorical_crossentropy\", optimizer=opt, metrics=[\"accuracy\"])"
   ]
  },
  {
   "cell_type": "code",
   "execution_count": null,
   "metadata": {},
   "outputs": [
    {
     "name": "stdout",
     "output_type": "stream",
     "text": [
      "[INFO] finding learning rate...\n"
     ]
    }
   ],
   "source": [
    "print(\"[INFO] finding learning rate...\")\n",
    "lrf = LearningRateFinder(model)\n",
    "lrf.find(aug.flow(trainX, trainY, batch_size=config.BATCH_SIZE),\n",
    "         1e-10, 1e+1,\n",
    "         stepsPerEpoch=np.ceil((len(trainX) / float(config.BATCH_SIZE))),\n",
    "         batchSize=config.BATCH_SIZE)"
   ]
  },
  {
   "cell_type": "code",
   "execution_count": null,
   "metadata": {},
   "outputs": [],
   "source": []
  },
  {
   "cell_type": "code",
   "execution_count": null,
   "metadata": {},
   "outputs": [],
   "source": []
  }
 ],
 "metadata": {
  "kernelspec": {
   "display_name": "Python 3",
   "language": "python",
   "name": "python3"
  },
  "language_info": {
   "codemirror_mode": {
    "name": "ipython",
    "version": 3
   },
   "file_extension": ".py",
   "mimetype": "text/x-python",
   "name": "python",
   "nbconvert_exporter": "python",
   "pygments_lexer": "ipython3",
   "version": "3.6.8"
  }
 },
 "nbformat": 4,
 "nbformat_minor": 2
}
